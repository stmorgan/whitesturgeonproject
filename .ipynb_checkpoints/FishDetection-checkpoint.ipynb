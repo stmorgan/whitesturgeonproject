{
 "cells": [
  {
   "cell_type": "markdown",
   "metadata": {},
   "source": [
    "# Fish Detection and Tracking"
   ]
  },
  {
   "cell_type": "code",
   "execution_count": 3,
   "metadata": {},
   "outputs": [],
   "source": [
    "import pandas as pd\n",
    "\n",
    "df = pd.read_csv('detectionsBCIT_fixed.csv')\n",
    "\n"
   ]
  },
  {
   "cell_type": "code",
   "execution_count": 4,
   "metadata": {},
   "outputs": [
    {
     "data": {
      "text/plain": [
       "array(['A69-1602-64231', 'A69-1602-64232', 'A69-1602-64234',\n",
       "       'A69-1602-64235', 'A69-1602-64236', 'A69-1602-64237',\n",
       "       'A69-1602-64238', 'A69-1602-64241', 'A69-1602-64244',\n",
       "       'A69-1602-64245', 'A69-1602-64246', 'A69-1602-64247',\n",
       "       'A69-1602-64248', 'A69-1602-64249', 'A69-1602-64250',\n",
       "       'A69-1602-64252', 'A69-1602-64255', 'A69-1602-64256',\n",
       "       'A69-1602-64257', 'A69-1604-24858', 'A69-1604-27419',\n",
       "       'A69-1604-27420', 'A69-1604-27421', 'A69-1604-27422',\n",
       "       'A69-1604-27423', 'A69-1604-27424', 'A69-1604-27425',\n",
       "       'A69-1604-27427', 'A69-1604-27430', 'A69-1604-27431',\n",
       "       'A69-1604-27432', 'A69-1604-27433', 'A69-1604-27434',\n",
       "       'A69-1604-27435', 'A69-1604-27436', 'A69-1604-27437',\n",
       "       'A69-1604-27438', 'A69-1604-27439', 'A69-1604-27440',\n",
       "       'A69-1604-27441', 'A69-1604-27442', 'A69-1604-27443',\n",
       "       'A69-1604-27444', 'A69-1604-27445', 'A69-1604-27446',\n",
       "       'A69-1604-27447', 'A69-1604-27448', 'A69-9001-16062',\n",
       "       'A69-9001-20978', 'A69-9001-20980', 'A69-9001-20981',\n",
       "       'A69-9001-22495', 'A69-9001-22498', 'A69-9001-25438'], dtype=object)"
      ]
     },
     "execution_count": 4,
     "metadata": {},
     "output_type": "execute_result"
    }
   ],
   "source": [
    "fish = df.acoustic_tag_id.unique()\n",
    "fish"
   ]
  },
  {
   "cell_type": "code",
   "execution_count": 5,
   "metadata": {},
   "outputs": [],
   "source": [
    "## Filter each fish by date. "
   ]
  },
  {
   "cell_type": "markdown",
   "metadata": {},
   "source": [
    "## "
   ]
  }
 ],
 "metadata": {
  "kernelspec": {
   "display_name": "Python 3 (ipykernel)",
   "language": "python",
   "name": "python3"
  },
  "language_info": {
   "codemirror_mode": {
    "name": "ipython",
    "version": 3
   },
   "file_extension": ".py",
   "mimetype": "text/x-python",
   "name": "python",
   "nbconvert_exporter": "python",
   "pygments_lexer": "ipython3",
   "version": "3.8.5"
  }
 },
 "nbformat": 4,
 "nbformat_minor": 4
}
